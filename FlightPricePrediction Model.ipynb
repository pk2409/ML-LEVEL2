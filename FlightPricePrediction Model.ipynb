{
 "cells": [
  {
   "cell_type": "code",
   "execution_count": 12,
   "id": "cdfd8bdb",
   "metadata": {},
   "outputs": [],
   "source": [
    "import pandas as pd\n",
    "import numpy as pd\n",
    "import time\n",
    "import selenium\n",
    "from selenium import webdriver\n",
    "from selenium.common.exceptions import StaleElementReferenceException, NoSuchElementException\n",
    "from selenium.webdriver.support.ui import WebDriverWait\n",
    "from selenium.webdriver.common.by import By\n",
    "from selenium.webdriver.support import expected_conditions as EC"
   ]
  },
  {
   "cell_type": "code",
   "execution_count": 13,
   "id": "eeb59d20",
   "metadata": {},
   "outputs": [
    {
     "name": "stdout",
     "output_type": "stream",
     "text": [
      "Requirement already satisfied: selenium in c:\\users\\prish\\anaconda3\\lib\\site-packages (4.10.0)\n",
      "Requirement already satisfied: trio~=0.17 in c:\\users\\prish\\anaconda3\\lib\\site-packages (from selenium) (0.22.1)\n",
      "Requirement already satisfied: certifi>=2021.10.8 in c:\\users\\prish\\anaconda3\\lib\\site-packages (from selenium) (2023.5.7)\n",
      "Requirement already satisfied: trio-websocket~=0.9 in c:\\users\\prish\\anaconda3\\lib\\site-packages (from selenium) (0.10.3)\n",
      "Requirement already satisfied: urllib3[socks]<3,>=1.26 in c:\\users\\prish\\anaconda3\\lib\\site-packages (from selenium) (1.26.16)\n",
      "Requirement already satisfied: cffi>=1.14 in c:\\users\\prish\\anaconda3\\lib\\site-packages (from trio~=0.17->selenium) (1.15.1)\n",
      "Requirement already satisfied: sortedcontainers in c:\\users\\prish\\anaconda3\\lib\\site-packages (from trio~=0.17->selenium) (2.4.0)\n",
      "Requirement already satisfied: exceptiongroup>=1.0.0rc9 in c:\\users\\prish\\anaconda3\\lib\\site-packages (from trio~=0.17->selenium) (1.1.2)\n",
      "Requirement already satisfied: attrs>=20.1.0 in c:\\users\\prish\\anaconda3\\lib\\site-packages (from trio~=0.17->selenium) (22.1.0)\n",
      "Requirement already satisfied: outcome in c:\\users\\prish\\anaconda3\\lib\\site-packages (from trio~=0.17->selenium) (1.2.0)\n",
      "Requirement already satisfied: sniffio in c:\\users\\prish\\anaconda3\\lib\\site-packages (from trio~=0.17->selenium) (1.2.0)\n",
      "Requirement already satisfied: idna in c:\\users\\prish\\anaconda3\\lib\\site-packages (from trio~=0.17->selenium) (3.4)\n",
      "Requirement already satisfied: wsproto>=0.14 in c:\\users\\prish\\anaconda3\\lib\\site-packages (from trio-websocket~=0.9->selenium) (1.2.0)\n",
      "Requirement already satisfied: PySocks!=1.5.7,<2.0,>=1.5.6 in c:\\users\\prish\\anaconda3\\lib\\site-packages (from urllib3[socks]<3,>=1.26->selenium) (1.7.1)\n",
      "Requirement already satisfied: pycparser in c:\\users\\prish\\anaconda3\\lib\\site-packages (from cffi>=1.14->trio~=0.17->selenium) (2.21)\n",
      "Requirement already satisfied: h11<1,>=0.9.0 in c:\\users\\prish\\anaconda3\\lib\\site-packages (from wsproto>=0.14->trio-websocket~=0.9->selenium) (0.14.0)\n",
      "Note: you may need to restart the kernel to use updated packages.\n"
     ]
    }
   ],
   "source": [
    "pip install selenium"
   ]
  },
  {
   "cell_type": "code",
   "execution_count": 4,
   "id": "79c603cf",
   "metadata": {},
   "outputs": [
    {
     "ename": "NameError",
     "evalue": "name 'webdriver' is not defined",
     "output_type": "error",
     "traceback": [
      "\u001b[1;31m---------------------------------------------------------------------------\u001b[0m",
      "\u001b[1;31mNameError\u001b[0m                                 Traceback (most recent call last)",
      "Cell \u001b[1;32mIn[4], line 1\u001b[0m\n\u001b[1;32m----> 1\u001b[0m driver\u001b[38;5;241m=\u001b[39m\u001b[43mwebdriver\u001b[49m\u001b[38;5;241m.\u001b[39mChrome(\u001b[38;5;124mr\u001b[39m\u001b[38;5;124m'\u001b[39m\u001b[38;5;124mC:\u001b[39m\u001b[38;5;124m\\\u001b[39m\u001b[38;5;124mchromedriver.exe\u001b[39m\u001b[38;5;124m'\u001b[39m)\n",
      "\u001b[1;31mNameError\u001b[0m: name 'webdriver' is not defined"
     ]
    }
   ],
   "source": [
    "driver=webdriver.Chrome(r'C:\\chromedriver.exe')\n"
   ]
  },
  {
   "cell_type": "code",
   "execution_count": 2,
   "id": "d8f22594",
   "metadata": {},
   "outputs": [
    {
     "ename": "NameError",
     "evalue": "name 'chromedriver' is not defined",
     "output_type": "error",
     "traceback": [
      "\u001b[1;31m---------------------------------------------------------------------------\u001b[0m",
      "\u001b[1;31mNameError\u001b[0m                                 Traceback (most recent call last)",
      "Cell \u001b[1;32mIn[2], line 1\u001b[0m\n\u001b[1;32m----> 1\u001b[0m \u001b[43mchromedriver\u001b[49m\u001b[38;5;241m.\u001b[39mexe \u001b[38;5;241m-\u001b[39m\u001b[38;5;241m-\u001b[39mversion\n",
      "\u001b[1;31mNameError\u001b[0m: name 'chromedriver' is not defined"
     ]
    }
   ],
   "source": [
    "chromedriver.exe --version\n"
   ]
  },
  {
   "cell_type": "code",
   "execution_count": 3,
   "id": "6bc61fb2",
   "metadata": {},
   "outputs": [
    {
     "name": "stdout",
     "output_type": "stream",
     "text": [
      "Requirement already satisfied: webdriver-manager in c:\\users\\prish\\anaconda3\\lib\\site-packages (3.8.6)\n",
      "Requirement already satisfied: tqdm in c:\\users\\prish\\anaconda3\\lib\\site-packages (from webdriver-manager) (4.65.0)\n",
      "Requirement already satisfied: requests in c:\\users\\prish\\anaconda3\\lib\\site-packages (from webdriver-manager) (2.29.0)\n",
      "Requirement already satisfied: python-dotenv in c:\\users\\prish\\anaconda3\\lib\\site-packages (from webdriver-manager) (1.0.0)\n",
      "Requirement already satisfied: packaging in c:\\users\\prish\\anaconda3\\lib\\site-packages (from webdriver-manager) (23.0)\n",
      "Requirement already satisfied: idna<4,>=2.5 in c:\\users\\prish\\anaconda3\\lib\\site-packages (from requests->webdriver-manager) (3.4)\n",
      "Requirement already satisfied: certifi>=2017.4.17 in c:\\users\\prish\\anaconda3\\lib\\site-packages (from requests->webdriver-manager) (2023.5.7)\n",
      "Requirement already satisfied: charset-normalizer<4,>=2 in c:\\users\\prish\\anaconda3\\lib\\site-packages (from requests->webdriver-manager) (2.0.4)\n",
      "Requirement already satisfied: urllib3<1.27,>=1.21.1 in c:\\users\\prish\\anaconda3\\lib\\site-packages (from requests->webdriver-manager) (1.26.16)\n",
      "Requirement already satisfied: colorama in c:\\users\\prish\\anaconda3\\lib\\site-packages (from tqdm->webdriver-manager) (0.4.6)\n",
      "Note: you may need to restart the kernel to use updated packages.\n"
     ]
    }
   ],
   "source": [
    "pip install webdriver-manager\n"
   ]
  },
  {
   "cell_type": "code",
   "execution_count": 14,
   "id": "fc9c5df1",
   "metadata": {},
   "outputs": [
    {
     "data": {
      "text/plain": [
       "'C:\\\\Users\\\\prish\\\\anaconda3'"
      ]
     },
     "execution_count": 14,
     "metadata": {},
     "output_type": "execute_result"
    }
   ],
   "source": [
    "import os\n",
    "import sys\n",
    "os.path.dirname(sys.executable)"
   ]
  },
  {
   "cell_type": "code",
   "execution_count": 15,
   "id": "f4ef96d3",
   "metadata": {},
   "outputs": [],
   "source": [
    "from selenium import webdriver\n",
    "browser = webdriver.Chrome()\n",
    "browser.get('https://www.yatra.com/')"
   ]
  },
  {
   "cell_type": "code",
   "execution_count": 16,
   "id": "cfe473f6",
   "metadata": {},
   "outputs": [],
   "source": [
    "browser.get(\"https://flight.yatra.com/air-search-ui/dom2/trigger?ADT=1&CHD=0&INF=0&class=Economy&destination=BOM&destinationCountry=IN&flexi=0&flight_depart_date=19%2F07%2F2023&hb=0&noOfSegments=1&origin=DEL&originCountry=IN&type=O&unique=246072983184&version=1.1&viewName=normal\")\n",
    "time.sleep(2)"
   ]
  },
  {
   "cell_type": "code",
   "execution_count": 17,
   "id": "47da2ff2",
   "metadata": {},
   "outputs": [],
   "source": [
    "Airlines = []\n",
    "Aeroplane = []\n",
    "Dept_time = []\n",
    "Arrival_time = []\n",
    "Source = []\n",
    "Destination = []\n",
    "Duration = []\n",
    "Stops = []\n",
    "Date = []\n",
    "Price = []"
   ]
  },
  {
   "cell_type": "code",
   "execution_count": 18,
   "id": "277c657d",
   "metadata": {},
   "outputs": [
    {
     "name": "stderr",
     "output_type": "stream",
     "text": [
      "100%|██████████| 50/50 [00:16<00:00,  3.07it/s]\n"
     ]
    }
   ],
   "source": [
    "from tqdm import tqdm\n",
    "for _ in tqdm (range(0,50)):\n",
    "    time.sleep(0.1)\n",
    "    browser.execute_script(\"window.scrollBy(0,2000)\",\"\")\n",
    "    time.sleep(0.2)\n",
    "    browser.execute_script(\"window.scrollBy(0,-500)\",\"\")"
   ]
  },
  {
   "cell_type": "code",
   "execution_count": 20,
   "id": "f8e2b9c6",
   "metadata": {},
   "outputs": [
    {
     "data": {
      "text/plain": [
       "146"
      ]
     },
     "execution_count": 20,
     "metadata": {},
     "output_type": "execute_result"
    }
   ],
   "source": [
    "flights=browser.find_elements(\"xpath\",'//div[@class=\"flight-det table full-width clearfix\"]')\n",
    "len(flights)"
   ]
  },
  {
   "cell_type": "code",
   "execution_count": 21,
   "id": "a2a8c267",
   "metadata": {},
   "outputs": [
    {
     "name": "stderr",
     "output_type": "stream",
     "text": [
      "100%|██████████| 146/146 [00:01<00:00, 118.81it/s]\n",
      "100%|██████████| 146/146 [00:01<00:00, 115.39it/s]\n",
      "100%|██████████| 146/146 [00:01<00:00, 118.78it/s]\n",
      "100%|██████████| 146/146 [00:01<00:00, 123.58it/s]\n",
      "100%|██████████| 146/146 [00:00<00:00, 156.60it/s]\n",
      "100%|██████████| 146/146 [00:01<00:00, 125.69it/s]\n",
      "100%|██████████| 146/146 [00:01<00:00, 118.91it/s]\n",
      "100%|██████████| 146/146 [00:01<00:00, 116.60it/s]\n",
      "100%|██████████| 146/146 [00:00<?, ?it/s]\n"
     ]
    }
   ],
   "source": [
    "#extracting the name of airlines\n",
    "airlines=browser.find_elements(\"xpath\",\"//div[@class='fs-13 airline-name no-pad col-8']/span\")\n",
    "for i in airlines:\n",
    "    Airlines.append(i.text.replace(\"\\n\",\" \"))\n",
    "else:\n",
    "    pass\n",
    "\n",
    "#extracting the aeroplane model\n",
    "aeroplanes=browser.find_elements(\"xpath\",\"//p[@class='normal fs-11 font-lightestgrey no-wrap fl-no']/span\")\n",
    "for i in tqdm(aeroplanes):\n",
    "    Aeroplane.append(i.text)\n",
    "else:\n",
    "    pass\n",
    "\n",
    "#extracting departure times\n",
    "dept_times=browser.find_elements(\"xpath\",\"//div[@class='i-b pr']\")\n",
    "for i in tqdm(dept_times):\n",
    "    Dept_time.append(i.text)\n",
    "else:\n",
    "    pass\n",
    "\n",
    "#extracting arrival times\n",
    "arrival=browser.find_elements(\"xpath\",\"//p[@class='bold fs-15 mb-2 pr time']\")\n",
    "for i in tqdm(arrival):\n",
    "    Arrival_time.append(i.text)\n",
    "else:\n",
    "    pass\n",
    "\n",
    "#extracting source of the flight\n",
    "source = browser.find_elements(\"xpath\",\"//div[@class='i-b col-4 no-wrap text-right dtime col-3']/p\")\n",
    "for i in tqdm(source):\n",
    "    Source.append(i.text)\n",
    "else :\n",
    "    pass\n",
    "\n",
    "# Extracting Destination of Flights via Xpath\n",
    "destination = browser.find_elements(\"xpath\",'//div[@class=\"i-b pdd-0 text-left atime col-5\"]/p[2]')\n",
    "for i in tqdm(destination):\n",
    "    Destination.append(i.text)\n",
    "else:\n",
    "    pass\n",
    "\n",
    "# Extracting Duration of Flights via Xpath\n",
    "duration = browser.find_elements(\"xpath\",'//div[@class=\"stop-cont pl-13\"]/p')\n",
    "for i in tqdm(duration):\n",
    "    Duration.append(i.text)\n",
    "else:\n",
    "    pass\n",
    "\n",
    "# Extracting stop details via Xpath\n",
    "stop = browser.find_elements(\"xpath\",\"//div[@class='stop-cont pl-13']/div/span\")\n",
    "for i in tqdm(stop):\n",
    "    Stops.append(i.text)\n",
    "else:\n",
    "    pass\n",
    "\n",
    "# Extracting Price of Flights via Xpath\n",
    "count = 0\n",
    "price = browser.find_elements(\"xpath\",'//div[@class=\"i-b tipsy fare-summary-tooltip fs-18\"]')\n",
    "for i in tqdm(price):\n",
    "    Price.append(i.text.replace(',',''))\n",
    "    count = count +1\n",
    "else:\n",
    "    count = count +1\n",
    "    pass\n",
    "\n",
    "# Clicking on Flights details element\n",
    "Button = browser.find_elements(\"xpath\",'//div[@class=\"link-color fs-12 cursor-pointer\"]/span')\n",
    "browser.execute_script(\"arguments[0].click();\", WebDriverWait(browser, 20).until(EC.element_to_be_clickable((By.XPATH,'//div[@class=\"link-color fs-12 cursor-pointer\"]/span'))))\n",
    "time.sleep(0.25)\n",
    "\n",
    "# Extracting Date of Flights via Xpath\n",
    "date = browser.find_element(\"xpath\",'//div[@class=\"bold fs-12 mb-5\"]')\n",
    "a = date.text\n",
    "for i in tqdm(range(count-1)):\n",
    "    Date.append(a)\n",
    "else:\n",
    "    pass"
   ]
  },
  {
   "cell_type": "code",
   "execution_count": 22,
   "id": "e2ef5c59",
   "metadata": {},
   "outputs": [],
   "source": [
    "import pandas as pd\n",
    "import numpy as np"
   ]
  },
  {
   "cell_type": "code",
   "execution_count": 4,
   "id": "d2c9f161",
   "metadata": {},
   "outputs": [
    {
     "name": "stdout",
     "output_type": "stream",
     "text": [
      "Collecting package metadata (current_repodata.json): ...working... done\n",
      "Solving environment: ...working... done\n",
      "\n",
      "# All requested packages already installed.\n",
      "\n",
      "\n",
      "Note: you may need to restart the kernel to use updated packages.\n"
     ]
    }
   ],
   "source": [
    "conda install numexpr"
   ]
  },
  {
   "cell_type": "code",
   "execution_count": 6,
   "id": "09ca3a6a",
   "metadata": {},
   "outputs": [
    {
     "name": "stdout",
     "output_type": "stream",
     "text": [
      "Collecting package metadata (repodata.json): ...working... done\n",
      "Solving environment: ...working... failed\n",
      "\n",
      "Note: you may need to restart the kernel to use updated packages.\n"
     ]
    },
    {
     "name": "stderr",
     "output_type": "stream",
     "text": [
      "\n",
      "PackagesNotFoundError: The following packages are missing from the target environment:\n",
      "  - numexpr\n",
      "\n",
      "\n"
     ]
    }
   ],
   "source": [
    "conda remove numexpr"
   ]
  },
  {
   "cell_type": "code",
   "execution_count": 7,
   "id": "599bdf40",
   "metadata": {},
   "outputs": [
    {
     "name": "stdout",
     "output_type": "stream",
     "text": [
      "Collecting package metadata (current_repodata.json): ...working... done\n",
      "Solving environment: ...working... done\n",
      "\n",
      "## Package Plan ##\n",
      "\n",
      "  environment location: C:\\Users\\prish\\anaconda3\n",
      "\n",
      "  added / updated specs:\n",
      "    - numexpr\n",
      "\n",
      "\n",
      "The following NEW packages will be INSTALLED:\n",
      "\n",
      "  numexpr            pkgs/main/win-64::numexpr-2.8.4-py310h2cd9be0_1 \n",
      "\n",
      "\n",
      "\n",
      "Downloading and Extracting Packages\n",
      "\n",
      "\n",
      "Preparing transaction: ...working... done\n",
      "Verifying transaction: ...working... done\n",
      "Executing transaction: ...working... done\n",
      "\n",
      "Note: you may need to restart the kernel to use updated packages.\n"
     ]
    }
   ],
   "source": [
    "conda install numexpr"
   ]
  },
  {
   "cell_type": "code",
   "execution_count": 3,
   "id": "b77fc48e",
   "metadata": {},
   "outputs": [],
   "source": [
    "import pandas as pd\n",
    "import numpy as np"
   ]
  },
  {
   "cell_type": "code",
   "execution_count": 23,
   "id": "006e19b6",
   "metadata": {},
   "outputs": [
    {
     "data": {
      "text/html": [
       "<div>\n",
       "<style scoped>\n",
       "    .dataframe tbody tr th:only-of-type {\n",
       "        vertical-align: middle;\n",
       "    }\n",
       "\n",
       "    .dataframe tbody tr th {\n",
       "        vertical-align: top;\n",
       "    }\n",
       "\n",
       "    .dataframe thead th {\n",
       "        text-align: right;\n",
       "    }\n",
       "</style>\n",
       "<table border=\"1\" class=\"dataframe\">\n",
       "  <thead>\n",
       "    <tr style=\"text-align: right;\">\n",
       "      <th></th>\n",
       "      <th>Airline</th>\n",
       "      <th>Aeroplane</th>\n",
       "      <th>Date</th>\n",
       "      <th>Departure_Time</th>\n",
       "      <th>Arrival_Time</th>\n",
       "      <th>Source</th>\n",
       "      <th>Destination</th>\n",
       "      <th>Stops</th>\n",
       "      <th>Duration</th>\n",
       "      <th>Price</th>\n",
       "    </tr>\n",
       "  </thead>\n",
       "  <tbody>\n",
       "    <tr>\n",
       "      <th>0</th>\n",
       "      <td>SpiceJet</td>\n",
       "      <td>SG-157</td>\n",
       "      <td>Wed, 19 Jul 2023</td>\n",
       "      <td>12:00</td>\n",
       "      <td>14:25</td>\n",
       "      <td>New Delhi</td>\n",
       "      <td>Mumbai</td>\n",
       "      <td>Non Stop</td>\n",
       "      <td>2h 25m</td>\n",
       "      <td>4072</td>\n",
       "    </tr>\n",
       "    <tr>\n",
       "      <th>1</th>\n",
       "      <td>Air Asia</td>\n",
       "      <td>I5-788/337</td>\n",
       "      <td>Wed, 19 Jul 2023</td>\n",
       "      <td>21:45</td>\n",
       "      <td>02:15\\n+ 1 day</td>\n",
       "      <td>New Delhi</td>\n",
       "      <td>Mumbai</td>\n",
       "      <td>1 Stop</td>\n",
       "      <td>4h 30m</td>\n",
       "      <td>4342</td>\n",
       "    </tr>\n",
       "    <tr>\n",
       "      <th>2</th>\n",
       "      <td>Air Asia</td>\n",
       "      <td>I5-743/762</td>\n",
       "      <td>Wed, 19 Jul 2023</td>\n",
       "      <td>05:00</td>\n",
       "      <td>10:45</td>\n",
       "      <td>New Delhi</td>\n",
       "      <td>Mumbai</td>\n",
       "      <td>1 Stop</td>\n",
       "      <td>5h 45m</td>\n",
       "      <td>4342</td>\n",
       "    </tr>\n",
       "    <tr>\n",
       "      <th>3</th>\n",
       "      <td>Air Asia</td>\n",
       "      <td>I5-745/784</td>\n",
       "      <td>Wed, 19 Jul 2023</td>\n",
       "      <td>13:00</td>\n",
       "      <td>20:20</td>\n",
       "      <td>New Delhi</td>\n",
       "      <td>Mumbai</td>\n",
       "      <td>1 Stop</td>\n",
       "      <td>7h 20m</td>\n",
       "      <td>4342</td>\n",
       "    </tr>\n",
       "    <tr>\n",
       "      <th>4</th>\n",
       "      <td>Air Asia</td>\n",
       "      <td>I5-1569/472</td>\n",
       "      <td>Wed, 19 Jul 2023</td>\n",
       "      <td>19:25</td>\n",
       "      <td>04:00\\n+ 1 day</td>\n",
       "      <td>New Delhi</td>\n",
       "      <td>Mumbai</td>\n",
       "      <td>2 Stop(s)</td>\n",
       "      <td>8h 35m</td>\n",
       "      <td>4342</td>\n",
       "    </tr>\n",
       "  </tbody>\n",
       "</table>\n",
       "</div>"
      ],
      "text/plain": [
       "    Airline    Aeroplane              Date Departure_Time    Arrival_Time  \\\n",
       "0  SpiceJet       SG-157  Wed, 19 Jul 2023          12:00           14:25   \n",
       "1  Air Asia   I5-788/337  Wed, 19 Jul 2023          21:45  02:15\\n+ 1 day   \n",
       "2  Air Asia   I5-743/762  Wed, 19 Jul 2023          05:00           10:45   \n",
       "3  Air Asia   I5-745/784  Wed, 19 Jul 2023          13:00           20:20   \n",
       "4  Air Asia  I5-1569/472  Wed, 19 Jul 2023          19:25  04:00\\n+ 1 day   \n",
       "\n",
       "      Source Destination      Stops Duration Price  \n",
       "0  New Delhi      Mumbai   Non Stop   2h 25m  4072  \n",
       "1  New Delhi      Mumbai     1 Stop   4h 30m  4342  \n",
       "2  New Delhi      Mumbai     1 Stop   5h 45m  4342  \n",
       "3  New Delhi      Mumbai     1 Stop   7h 20m  4342  \n",
       "4  New Delhi      Mumbai  2 Stop(s)   8h 35m  4342  "
      ]
     },
     "execution_count": 23,
     "metadata": {},
     "output_type": "execute_result"
    }
   ],
   "source": [
    "Flight=pd.DataFrame()\n",
    "Flight[\"Airline\"]=Airlines\n",
    "Flight['Aeroplane'] = Aeroplane\n",
    "Flight[\"Date\"]=Date\n",
    "Flight[\"Departure_Time\"]=Dept_time\n",
    "Flight[\"Arrival_Time\"]=Arrival_time\n",
    "Flight[\"Source\"]=Source\n",
    "Flight[\"Destination\"]=Destination\n",
    "Flight[\"Stops\"]=Stops\n",
    "Flight[\"Duration\"]=Duration\n",
    "Flight[\"Price\"]=Price\n",
    "Flight.head()"
   ]
  },
  {
   "cell_type": "code",
   "execution_count": 29,
   "id": "1238fbaa",
   "metadata": {},
   "outputs": [],
   "source": [
    "Flight.to_csv('FlightPrice.csv')"
   ]
  },
  {
   "cell_type": "code",
   "execution_count": 30,
   "id": "964d423b",
   "metadata": {},
   "outputs": [],
   "source": [
    "df=pd.read_csv('FlightPrice.csv')"
   ]
  },
  {
   "cell_type": "code",
   "execution_count": 31,
   "id": "a06d5c61",
   "metadata": {},
   "outputs": [
    {
     "name": "stdout",
     "output_type": "stream",
     "text": [
      "No. of Rows : 146\n",
      "No. of Columns : 11\n"
     ]
    },
    {
     "data": {
      "text/html": [
       "<div>\n",
       "<style scoped>\n",
       "    .dataframe tbody tr th:only-of-type {\n",
       "        vertical-align: middle;\n",
       "    }\n",
       "\n",
       "    .dataframe tbody tr th {\n",
       "        vertical-align: top;\n",
       "    }\n",
       "\n",
       "    .dataframe thead th {\n",
       "        text-align: right;\n",
       "    }\n",
       "</style>\n",
       "<table border=\"1\" class=\"dataframe\">\n",
       "  <thead>\n",
       "    <tr style=\"text-align: right;\">\n",
       "      <th></th>\n",
       "      <th>Unnamed: 0</th>\n",
       "      <th>Airline</th>\n",
       "      <th>Aeroplane</th>\n",
       "      <th>Date</th>\n",
       "      <th>Departure_Time</th>\n",
       "      <th>Arrival_Time</th>\n",
       "      <th>Source</th>\n",
       "      <th>Destination</th>\n",
       "      <th>Stops</th>\n",
       "      <th>Duration</th>\n",
       "      <th>Price</th>\n",
       "    </tr>\n",
       "  </thead>\n",
       "  <tbody>\n",
       "    <tr>\n",
       "      <th>0</th>\n",
       "      <td>0</td>\n",
       "      <td>SpiceJet</td>\n",
       "      <td>SG-157</td>\n",
       "      <td>Wed, 19 Jul 2023</td>\n",
       "      <td>12:00</td>\n",
       "      <td>14:25</td>\n",
       "      <td>New Delhi</td>\n",
       "      <td>Mumbai</td>\n",
       "      <td>Non Stop</td>\n",
       "      <td>2h 25m</td>\n",
       "      <td>4072</td>\n",
       "    </tr>\n",
       "    <tr>\n",
       "      <th>1</th>\n",
       "      <td>1</td>\n",
       "      <td>Air Asia</td>\n",
       "      <td>I5-788/337</td>\n",
       "      <td>Wed, 19 Jul 2023</td>\n",
       "      <td>21:45</td>\n",
       "      <td>02:15\\n+ 1 day</td>\n",
       "      <td>New Delhi</td>\n",
       "      <td>Mumbai</td>\n",
       "      <td>1 Stop</td>\n",
       "      <td>4h 30m</td>\n",
       "      <td>4342</td>\n",
       "    </tr>\n",
       "    <tr>\n",
       "      <th>2</th>\n",
       "      <td>2</td>\n",
       "      <td>Air Asia</td>\n",
       "      <td>I5-743/762</td>\n",
       "      <td>Wed, 19 Jul 2023</td>\n",
       "      <td>05:00</td>\n",
       "      <td>10:45</td>\n",
       "      <td>New Delhi</td>\n",
       "      <td>Mumbai</td>\n",
       "      <td>1 Stop</td>\n",
       "      <td>5h 45m</td>\n",
       "      <td>4342</td>\n",
       "    </tr>\n",
       "    <tr>\n",
       "      <th>3</th>\n",
       "      <td>3</td>\n",
       "      <td>Air Asia</td>\n",
       "      <td>I5-745/784</td>\n",
       "      <td>Wed, 19 Jul 2023</td>\n",
       "      <td>13:00</td>\n",
       "      <td>20:20</td>\n",
       "      <td>New Delhi</td>\n",
       "      <td>Mumbai</td>\n",
       "      <td>1 Stop</td>\n",
       "      <td>7h 20m</td>\n",
       "      <td>4342</td>\n",
       "    </tr>\n",
       "    <tr>\n",
       "      <th>4</th>\n",
       "      <td>4</td>\n",
       "      <td>Air Asia</td>\n",
       "      <td>I5-1569/472</td>\n",
       "      <td>Wed, 19 Jul 2023</td>\n",
       "      <td>19:25</td>\n",
       "      <td>04:00\\n+ 1 day</td>\n",
       "      <td>New Delhi</td>\n",
       "      <td>Mumbai</td>\n",
       "      <td>2 Stop(s)</td>\n",
       "      <td>8h 35m</td>\n",
       "      <td>4342</td>\n",
       "    </tr>\n",
       "  </tbody>\n",
       "</table>\n",
       "</div>"
      ],
      "text/plain": [
       "   Unnamed: 0   Airline    Aeroplane              Date Departure_Time  \\\n",
       "0           0  SpiceJet       SG-157  Wed, 19 Jul 2023          12:00   \n",
       "1           1  Air Asia   I5-788/337  Wed, 19 Jul 2023          21:45   \n",
       "2           2  Air Asia   I5-743/762  Wed, 19 Jul 2023          05:00   \n",
       "3           3  Air Asia   I5-745/784  Wed, 19 Jul 2023          13:00   \n",
       "4           4  Air Asia  I5-1569/472  Wed, 19 Jul 2023          19:25   \n",
       "\n",
       "     Arrival_Time     Source Destination      Stops Duration  Price  \n",
       "0           14:25  New Delhi      Mumbai   Non Stop   2h 25m   4072  \n",
       "1  02:15\\n+ 1 day  New Delhi      Mumbai     1 Stop   4h 30m   4342  \n",
       "2           10:45  New Delhi      Mumbai     1 Stop   5h 45m   4342  \n",
       "3           20:20  New Delhi      Mumbai     1 Stop   7h 20m   4342  \n",
       "4  04:00\\n+ 1 day  New Delhi      Mumbai  2 Stop(s)   8h 35m   4342  "
      ]
     },
     "execution_count": 31,
     "metadata": {},
     "output_type": "execute_result"
    }
   ],
   "source": [
    "print('No. of Rows :',df.shape[0])\n",
    "print('No. of Columns :',df.shape[1])\n",
    "df.head()"
   ]
  },
  {
   "cell_type": "code",
   "execution_count": 32,
   "id": "d7a7f254",
   "metadata": {},
   "outputs": [],
   "source": [
    "df.drop(columns='Unnamed: 0', inplace =True)"
   ]
  },
  {
   "cell_type": "code",
   "execution_count": 33,
   "id": "e2918911",
   "metadata": {},
   "outputs": [
    {
     "data": {
      "text/plain": [
       "{int64: ['Price'], object: ['Airline', 'Aeroplane', 'Date', 'Departure_Time', 'Arrival_Time', 'Source', 'Destination', 'Stops', 'Duration']}"
      ]
     },
     "execution_count": 33,
     "metadata": {},
     "output_type": "execute_result"
    }
   ],
   "source": [
    "#sorting columns by the datatypes of their values\n",
    "df.columns.to_series().groupby(df.dtypes).groups"
   ]
  },
  {
   "cell_type": "code",
   "execution_count": 34,
   "id": "02478a23",
   "metadata": {},
   "outputs": [
    {
     "data": {
      "text/plain": [
       "False"
      ]
     },
     "execution_count": 34,
     "metadata": {},
     "output_type": "execute_result"
    }
   ],
   "source": [
    "#data integrity check carried out here\n",
    "df.duplicated().sum()\n",
    "df.isin([' ','?','-','null','NA']).sum().any()"
   ]
  },
  {
   "cell_type": "code",
   "execution_count": 28,
   "id": "cd24658c",
   "metadata": {},
   "outputs": [
    {
     "name": "stdout",
     "output_type": "stream",
     "text": [
      "Collecting scikit-learn\n",
      "  Downloading scikit_learn-1.3.0-cp310-cp310-win_amd64.whl (9.2 MB)\n",
      "     ---------------------------------------- 9.2/9.2 MB 7.0 MB/s eta 0:00:00\n",
      "Collecting threadpoolctl>=2.0.0\n",
      "  Downloading threadpoolctl-3.1.0-py3-none-any.whl (14 kB)\n",
      "Collecting scipy>=1.5.0\n",
      "  Downloading scipy-1.11.1-cp310-cp310-win_amd64.whl (44.0 MB)\n",
      "     ---------------------------------------- 44.0/44.0 MB 4.7 MB/s eta 0:00:00\n",
      "Requirement already satisfied: numpy>=1.17.3 in c:\\users\\prish\\anaconda3\\lib\\site-packages (from scikit-learn) (1.25.0)\n",
      "Collecting joblib>=1.1.1\n",
      "  Downloading joblib-1.3.1-py3-none-any.whl (301 kB)\n",
      "     -------------------------------------- 302.0/302.0 kB 4.7 MB/s eta 0:00:00\n",
      "Installing collected packages: threadpoolctl, scipy, joblib, scikit-learn\n",
      "Successfully installed joblib-1.3.1 scikit-learn-1.3.0 scipy-1.11.1 threadpoolctl-3.1.0\n",
      "Note: you may need to restart the kernel to use updated packages.\n"
     ]
    }
   ],
   "source": [
    "pip install scikit-learn"
   ]
  },
  {
   "cell_type": "code",
   "execution_count": 30,
   "id": "c7f0af9a",
   "metadata": {},
   "outputs": [
    {
     "name": "stdout",
     "output_type": "stream",
     "text": [
      "Collecting xgboost\n",
      "  Downloading xgboost-1.7.6-py3-none-win_amd64.whl (70.9 MB)\n",
      "     ---------------------------------------- 70.9/70.9 MB 6.8 MB/s eta 0:00:00\n",
      "Requirement already satisfied: scipy in c:\\users\\prish\\anaconda3\\lib\\site-packages (from xgboost) (1.11.1)\n",
      "Requirement already satisfied: numpy in c:\\users\\prish\\anaconda3\\lib\\site-packages (from xgboost) (1.25.0)\n",
      "Installing collected packages: xgboost\n",
      "Successfully installed xgboost-1.7.6\n",
      "Note: you may need to restart the kernel to use updated packages.\n"
     ]
    }
   ],
   "source": [
    "pip install xgboost"
   ]
  },
  {
   "cell_type": "code",
   "execution_count": 35,
   "id": "8e686d69",
   "metadata": {},
   "outputs": [],
   "source": [
    "#Machine learning model\n",
    "from sklearn.metrics import mean_squared_error, mean_absolute_error, r2_score\n",
    "from sklearn.model_selection import train_test_split\n",
    "from sklearn.linear_model import LinearRegression\n",
    "from sklearn.ensemble import RandomForestRegressor\n",
    "from sklearn.tree import DecisionTreeRegressor\n",
    "from sklearn.ensemble import ExtraTreesRegressor\n",
    "from xgboost import XGBRegressor\n"
   ]
  },
  {
   "cell_type": "code",
   "execution_count": 54,
   "id": "c11c5a57",
   "metadata": {},
   "outputs": [
    {
     "name": "stdout",
     "output_type": "stream",
     "text": [
      "Collecting category_encoders\n",
      "  Downloading category_encoders-2.6.1-py2.py3-none-any.whl (81 kB)\n",
      "     ---------------------------------------- 81.9/81.9 kB 4.5 MB/s eta 0:00:00\n",
      "Requirement already satisfied: scipy>=1.0.0 in c:\\users\\prish\\anaconda3\\lib\\site-packages (from category_encoders) (1.11.1)\n",
      "Requirement already satisfied: pandas>=1.0.5 in c:\\users\\prish\\anaconda3\\lib\\site-packages (from category_encoders) (2.0.3)\n",
      "Collecting patsy>=0.5.1\n",
      "  Downloading patsy-0.5.3-py2.py3-none-any.whl (233 kB)\n",
      "     -------------------------------------- 233.8/233.8 kB 7.2 MB/s eta 0:00:00\n",
      "Requirement already satisfied: numpy>=1.14.0 in c:\\users\\prish\\anaconda3\\lib\\site-packages (from category_encoders) (1.25.0)\n",
      "Requirement already satisfied: scikit-learn>=0.20.0 in c:\\users\\prish\\anaconda3\\lib\\site-packages (from category_encoders) (1.3.0)\n",
      "Collecting statsmodels>=0.9.0\n",
      "  Downloading statsmodels-0.14.0-cp310-cp310-win_amd64.whl (9.2 MB)\n",
      "     ---------------------------------------- 9.2/9.2 MB 5.8 MB/s eta 0:00:00\n",
      "Requirement already satisfied: pytz>=2020.1 in c:\\users\\prish\\anaconda3\\lib\\site-packages (from pandas>=1.0.5->category_encoders) (2022.7)\n",
      "Requirement already satisfied: tzdata>=2022.1 in c:\\users\\prish\\anaconda3\\lib\\site-packages (from pandas>=1.0.5->category_encoders) (2023.3)\n",
      "Requirement already satisfied: python-dateutil>=2.8.2 in c:\\users\\prish\\anaconda3\\lib\\site-packages (from pandas>=1.0.5->category_encoders) (2.8.2)\n",
      "Requirement already satisfied: six in c:\\users\\prish\\anaconda3\\lib\\site-packages (from patsy>=0.5.1->category_encoders) (1.16.0)\n",
      "Requirement already satisfied: threadpoolctl>=2.0.0 in c:\\users\\prish\\anaconda3\\lib\\site-packages (from scikit-learn>=0.20.0->category_encoders) (3.1.0)\n",
      "Requirement already satisfied: joblib>=1.1.1 in c:\\users\\prish\\anaconda3\\lib\\site-packages (from scikit-learn>=0.20.0->category_encoders) (1.3.1)\n",
      "Requirement already satisfied: packaging>=21.3 in c:\\users\\prish\\anaconda3\\lib\\site-packages (from statsmodels>=0.9.0->category_encoders) (23.0)\n",
      "Installing collected packages: patsy, statsmodels, category_encoders\n",
      "Successfully installed category_encoders-2.6.1 patsy-0.5.3 statsmodels-0.14.0\n",
      "Note: you may need to restart the kernel to use updated packages.\n"
     ]
    }
   ],
   "source": [
    "pip install category_encoders\n"
   ]
  },
  {
   "cell_type": "code",
   "execution_count": 61,
   "id": "2e04cd0b",
   "metadata": {},
   "outputs": [],
   "source": [
    "import category_encoders as ce\n",
    "# Categorical variables of the data:"
   ]
  },
  {
   "cell_type": "code",
   "execution_count": 63,
   "id": "cd4ed0fa",
   "metadata": {},
   "outputs": [],
   "source": [
    "from sklearn.preprocessing import RobustScaler"
   ]
  },
  {
   "cell_type": "code",
   "execution_count": 36,
   "id": "c15600ea",
   "metadata": {},
   "outputs": [],
   "source": [
    "df['Duration'] = df['Duration'].map(lambda x : x.replace('05m','5m'))"
   ]
  },
  {
   "cell_type": "code",
   "execution_count": 37,
   "id": "9eb916f6",
   "metadata": {},
   "outputs": [],
   "source": [
    "# Conversion of Duration column from hr & Minutes format to Minutes\n",
    "df['Duration'] = df['Duration'].str.replace('h','*60').str.replace(' ','+').str.replace('m','*1').apply(eval)\n",
    "\n",
    "# convert this column into a numeric datatypes\n",
    "df['Duration']= pd.to_numeric(df['Duration'])"
   ]
  },
  {
   "cell_type": "code",
   "execution_count": 38,
   "id": "3e0adc15",
   "metadata": {},
   "outputs": [],
   "source": [
    "df['Day']= df['Date'].map(lambda x :x[:3])"
   ]
  },
  {
   "cell_type": "code",
   "execution_count": 39,
   "id": "db7c3c82",
   "metadata": {},
   "outputs": [],
   "source": [
    "df['Date']= df['Date'].map(lambda x :x[4:])"
   ]
  },
  {
   "cell_type": "code",
   "execution_count": 43,
   "id": "c641686e",
   "metadata": {},
   "outputs": [],
   "source": [
    "Categorical = ['Airline','Day','Stops','Aeroplane']"
   ]
  },
  {
   "cell_type": "code",
   "execution_count": 44,
   "id": "971bc610",
   "metadata": {},
   "outputs": [
    {
     "name": "stdout",
     "output_type": "stream",
     "text": [
      "Airline\n",
      "Airline\n",
      "IndiGo       48\n",
      "Air India    46\n",
      "Vistara      34\n",
      "Air Asia     11\n",
      "Akasa Air     4\n",
      "SpiceJet      3\n",
      "Name: count, dtype: int64\n",
      "====================================================================================================\n",
      "Day\n",
      "Day\n",
      "Wed    146\n",
      "Name: count, dtype: int64\n",
      "====================================================================================================\n",
      "Stops\n",
      "Stops\n",
      "1 Stop       102\n",
      "Non Stop      42\n",
      "2 Stop(s)      2\n",
      "Name: count, dtype: int64\n",
      "====================================================================================================\n",
      "Aeroplane\n",
      "Aeroplane\n",
      "QP-1119         2\n",
      "SG-157          1\n",
      "6E-6187/5222    1\n",
      "6E-6231/6673    1\n",
      "AI-819/670      1\n",
      "AI-823/690      1\n",
      "AI-885/664      1\n",
      "6E-2277/5189    1\n",
      "6E-6034/6425    1\n",
      "UK-815/854      1\n",
      "AI-851/663      1\n",
      "UK-815/864      1\n",
      "UK-815/850      1\n",
      "AI-411/626      1\n",
      "UK-941          1\n",
      "UK-985          1\n",
      "AI-542/618      1\n",
      "AI-560/618      1\n",
      "AI-1851/663     1\n",
      "I5-711/338      1\n",
      "UK-975          1\n",
      "UK-955          1\n",
      "AI-811/626      1\n",
      "6E-6492/5079    1\n",
      "AI-881/662      1\n",
      "AI-885/662      1\n",
      "6E-6083         1\n",
      "UK-951          1\n",
      "UK-977          1\n",
      "6E-731/5046     1\n",
      "UK-927          1\n",
      "6E-2033/6425    1\n",
      "UK-979/936      1\n",
      "AI-881/697      1\n",
      "AI-885/697      1\n",
      "AI-881/684      1\n",
      "AI-839/616      1\n",
      "6E-2272/773     1\n",
      "UK-929/936      1\n",
      "AI-514/622      1\n",
      "AI-803/622      1\n",
      "AI-502/610      1\n",
      "AI-514/604      1\n",
      "AI-813/602      1\n",
      "AI-502/642      1\n",
      "AI-803/602      1\n",
      "AI-506/610      1\n",
      "AI-506/602      1\n",
      "AI-514/602      1\n",
      "UK-673/622      1\n",
      "AI-406/696      1\n",
      "UK-813/840      1\n",
      "UK-807/866      1\n",
      "AI-887          1\n",
      "AI-815/642      1\n",
      "AI-807/642      1\n",
      "UK-555/572      1\n",
      "6E-6103/853     1\n",
      "6E-6822/983     1\n",
      "AI-403/688      1\n",
      "AI-403/656      1\n",
      "AI-853/663      1\n",
      "AI-849/663      1\n",
      "6E-6241/5024    1\n",
      "AI-469/644      1\n",
      "AI-813/622      1\n",
      "6E-6241/5139    1\n",
      "UK-801/854      1\n",
      "UK-801/864      1\n",
      "UK-801/850      1\n",
      "AI-435/634      1\n",
      "AI-815/610      1\n",
      "UK-969/936      1\n",
      "UK-979/956      1\n",
      "I5-788/337      1\n",
      "6E-607/5277     1\n",
      "6E-5197         1\n",
      "6E-864          1\n",
      "6E-2328         1\n",
      "6E-2016         1\n",
      "6E-6092         1\n",
      "6E-6424         1\n",
      "6E-153/5277     1\n",
      "6E-2519         1\n",
      "QP-1128         1\n",
      "AI-835/638      1\n",
      "AI-481/632      1\n",
      "AI-481/638      1\n",
      "AI-817/632      1\n",
      "AI-817/638      1\n",
      "6E-2176         1\n",
      "6E-2084         1\n",
      "AI-531/638      1\n",
      "I5-560/472      1\n",
      "I5-743/762      1\n",
      "I5-745/784      1\n",
      "I5-1569/472     1\n",
      "I5-779/679      1\n",
      "I5-788/762      1\n",
      "6E-2033/5277    1\n",
      "SG-8192         1\n",
      "6E-2112         1\n",
      "SG-8709         1\n",
      "QP-1411         1\n",
      "6E-2208/5282    1\n",
      "UK-995          1\n",
      "6E-2009         1\n",
      "6E-824          1\n",
      "AI-531/632      1\n",
      "AI-835/632      1\n",
      "6E-5204/5056    1\n",
      "6E-607/5017     1\n",
      "UK-981          1\n",
      "UK-943          1\n",
      "UK-963          1\n",
      "UK-929/956      1\n",
      "UK-969/956      1\n",
      "6E-153/6794     1\n",
      "6E-6492/6794    1\n",
      "6E-2042/6945    1\n",
      "6E-153/5195     1\n",
      "6E-2114         1\n",
      "6E-184/5185     1\n",
      "6E-184/5056     1\n",
      "6E-184/5061     1\n",
      "6E-5204/5185    1\n",
      "UK-933          1\n",
      "UK-979/918      1\n",
      "6E-2204/5165    1\n",
      "I5-768/336      1\n",
      "UK-929/918      1\n",
      "UK-969/918      1\n",
      "I5-784          1\n",
      "UK-957          1\n",
      "UK-945          1\n",
      "UK-993          1\n",
      "I5-798/336      1\n",
      "6E-2028/5059    1\n",
      "6E-5112         1\n",
      "6E-2017         1\n",
      "6E-5218         1\n",
      "6E-2075         1\n",
      "6E-2033/5017    1\n",
      "6E-6492/5136    1\n",
      "AI-624          1\n",
      "Name: count, dtype: int64\n",
      "====================================================================================================\n"
     ]
    }
   ],
   "source": [
    "pd.set_option('display.max_rows',None)\n",
    "for i in Categorical :\n",
    "    print(i)\n",
    "    print(df[i].value_counts())\n",
    "    print('='*100)"
   ]
  },
  {
   "cell_type": "code",
   "execution_count": 45,
   "id": "84c46cc4",
   "metadata": {},
   "outputs": [
    {
     "data": {
      "text/html": [
       "<style type=\"text/css\">\n",
       "</style>\n",
       "<table id=\"T_987bd\">\n",
       "  <thead>\n",
       "    <tr>\n",
       "      <th class=\"blank level0\" >&nbsp;</th>\n",
       "      <th id=\"T_987bd_level0_col0\" class=\"col_heading level0 col0\" >Airline</th>\n",
       "      <th id=\"T_987bd_level0_col1\" class=\"col_heading level0 col1\" >Aeroplane</th>\n",
       "      <th id=\"T_987bd_level0_col2\" class=\"col_heading level0 col2\" >Date</th>\n",
       "      <th id=\"T_987bd_level0_col3\" class=\"col_heading level0 col3\" >Departure_Time</th>\n",
       "      <th id=\"T_987bd_level0_col4\" class=\"col_heading level0 col4\" >Arrival_Time</th>\n",
       "      <th id=\"T_987bd_level0_col5\" class=\"col_heading level0 col5\" >Source</th>\n",
       "      <th id=\"T_987bd_level0_col6\" class=\"col_heading level0 col6\" >Destination</th>\n",
       "      <th id=\"T_987bd_level0_col7\" class=\"col_heading level0 col7\" >Stops</th>\n",
       "      <th id=\"T_987bd_level0_col8\" class=\"col_heading level0 col8\" >Day</th>\n",
       "    </tr>\n",
       "  </thead>\n",
       "  <tbody>\n",
       "    <tr>\n",
       "      <th id=\"T_987bd_level0_row0\" class=\"row_heading level0 row0\" >count</th>\n",
       "      <td id=\"T_987bd_row0_col0\" class=\"data row0 col0\" >146</td>\n",
       "      <td id=\"T_987bd_row0_col1\" class=\"data row0 col1\" >146</td>\n",
       "      <td id=\"T_987bd_row0_col2\" class=\"data row0 col2\" >146</td>\n",
       "      <td id=\"T_987bd_row0_col3\" class=\"data row0 col3\" >146</td>\n",
       "      <td id=\"T_987bd_row0_col4\" class=\"data row0 col4\" >146</td>\n",
       "      <td id=\"T_987bd_row0_col5\" class=\"data row0 col5\" >146</td>\n",
       "      <td id=\"T_987bd_row0_col6\" class=\"data row0 col6\" >146</td>\n",
       "      <td id=\"T_987bd_row0_col7\" class=\"data row0 col7\" >146</td>\n",
       "      <td id=\"T_987bd_row0_col8\" class=\"data row0 col8\" >146</td>\n",
       "    </tr>\n",
       "    <tr>\n",
       "      <th id=\"T_987bd_level0_row1\" class=\"row_heading level0 row1\" >unique</th>\n",
       "      <td id=\"T_987bd_row1_col0\" class=\"data row1 col0\" >6</td>\n",
       "      <td id=\"T_987bd_row1_col1\" class=\"data row1 col1\" >145</td>\n",
       "      <td id=\"T_987bd_row1_col2\" class=\"data row1 col2\" >1</td>\n",
       "      <td id=\"T_987bd_row1_col3\" class=\"data row1 col3\" >80</td>\n",
       "      <td id=\"T_987bd_row1_col4\" class=\"data row1 col4\" >94</td>\n",
       "      <td id=\"T_987bd_row1_col5\" class=\"data row1 col5\" >1</td>\n",
       "      <td id=\"T_987bd_row1_col6\" class=\"data row1 col6\" >1</td>\n",
       "      <td id=\"T_987bd_row1_col7\" class=\"data row1 col7\" >3</td>\n",
       "      <td id=\"T_987bd_row1_col8\" class=\"data row1 col8\" >1</td>\n",
       "    </tr>\n",
       "    <tr>\n",
       "      <th id=\"T_987bd_level0_row2\" class=\"row_heading level0 row2\" >top</th>\n",
       "      <td id=\"T_987bd_row2_col0\" class=\"data row2 col0\" >IndiGo</td>\n",
       "      <td id=\"T_987bd_row2_col1\" class=\"data row2 col1\" >QP-1119</td>\n",
       "      <td id=\"T_987bd_row2_col2\" class=\"data row2 col2\" > 19 Jul 2023</td>\n",
       "      <td id=\"T_987bd_row2_col3\" class=\"data row2 col3\" >13:30</td>\n",
       "      <td id=\"T_987bd_row2_col4\" class=\"data row2 col4\" >16:25</td>\n",
       "      <td id=\"T_987bd_row2_col5\" class=\"data row2 col5\" >New Delhi</td>\n",
       "      <td id=\"T_987bd_row2_col6\" class=\"data row2 col6\" >Mumbai</td>\n",
       "      <td id=\"T_987bd_row2_col7\" class=\"data row2 col7\" >1 Stop</td>\n",
       "      <td id=\"T_987bd_row2_col8\" class=\"data row2 col8\" >Wed</td>\n",
       "    </tr>\n",
       "    <tr>\n",
       "      <th id=\"T_987bd_level0_row3\" class=\"row_heading level0 row3\" >freq</th>\n",
       "      <td id=\"T_987bd_row3_col0\" class=\"data row3 col0\" >48</td>\n",
       "      <td id=\"T_987bd_row3_col1\" class=\"data row3 col1\" >2</td>\n",
       "      <td id=\"T_987bd_row3_col2\" class=\"data row3 col2\" >146</td>\n",
       "      <td id=\"T_987bd_row3_col3\" class=\"data row3 col3\" >5</td>\n",
       "      <td id=\"T_987bd_row3_col4\" class=\"data row3 col4\" >6</td>\n",
       "      <td id=\"T_987bd_row3_col5\" class=\"data row3 col5\" >146</td>\n",
       "      <td id=\"T_987bd_row3_col6\" class=\"data row3 col6\" >146</td>\n",
       "      <td id=\"T_987bd_row3_col7\" class=\"data row3 col7\" >102</td>\n",
       "      <td id=\"T_987bd_row3_col8\" class=\"data row3 col8\" >146</td>\n",
       "    </tr>\n",
       "  </tbody>\n",
       "</table>\n"
      ],
      "text/plain": [
       "<pandas.io.formats.style.Styler at 0x17e53137310>"
      ]
     },
     "execution_count": 45,
     "metadata": {},
     "output_type": "execute_result"
    }
   ],
   "source": [
    "df.describe(include=object).style.background_gradient(cmap='summer_r')"
   ]
  },
  {
   "cell_type": "code",
   "execution_count": 46,
   "id": "62284a24",
   "metadata": {},
   "outputs": [],
   "source": [
    "df.drop(columns=['Departure_Time','Arrival_Time','Source','Destination'], inplace= True)"
   ]
  },
  {
   "cell_type": "code",
   "execution_count": 47,
   "id": "e1378644",
   "metadata": {},
   "outputs": [
    {
     "data": {
      "text/plain": [
       "{int64: ['Duration', 'Price'], object: ['Airline', 'Aeroplane', 'Date', 'Stops', 'Day']}"
      ]
     },
     "execution_count": 47,
     "metadata": {},
     "output_type": "execute_result"
    }
   ],
   "source": [
    "#sorting columns by datatype\n",
    "df.columns.to_series().groupby(df.dtypes).groups"
   ]
  },
  {
   "cell_type": "code",
   "execution_count": 48,
   "id": "b2c8c193",
   "metadata": {},
   "outputs": [],
   "source": [
    "Categorical = ['Airline', 'Aeroplane', 'Date', 'Stops', 'Day']\n",
    "Numerical = ['Duration', 'Price']"
   ]
  },
  {
   "cell_type": "code",
   "execution_count": 49,
   "id": "80d0d4fa",
   "metadata": {},
   "outputs": [],
   "source": [
    "df['Aeroplane']= df['Aeroplane'].map(lambda x: str(x).replace('-',''))\n",
    "df['Aeroplane']= df['Aeroplane'].map(lambda x: str(x).replace('/',''))"
   ]
  },
  {
   "cell_type": "code",
   "execution_count": 51,
   "id": "eb83ba94",
   "metadata": {},
   "outputs": [
    {
     "data": {
      "text/html": [
       "<div>\n",
       "<style scoped>\n",
       "    .dataframe tbody tr th:only-of-type {\n",
       "        vertical-align: middle;\n",
       "    }\n",
       "\n",
       "    .dataframe tbody tr th {\n",
       "        vertical-align: top;\n",
       "    }\n",
       "\n",
       "    .dataframe thead th {\n",
       "        text-align: right;\n",
       "    }\n",
       "</style>\n",
       "<table border=\"1\" class=\"dataframe\">\n",
       "  <thead>\n",
       "    <tr style=\"text-align: right;\">\n",
       "      <th></th>\n",
       "      <th>Airline</th>\n",
       "      <th>Aeroplane</th>\n",
       "      <th>Date</th>\n",
       "      <th>Stops</th>\n",
       "      <th>Duration</th>\n",
       "      <th>Price</th>\n",
       "      <th>Day</th>\n",
       "    </tr>\n",
       "  </thead>\n",
       "  <tbody>\n",
       "    <tr>\n",
       "      <th>0</th>\n",
       "      <td>4</td>\n",
       "      <td>108</td>\n",
       "      <td>0</td>\n",
       "      <td>2</td>\n",
       "      <td>145</td>\n",
       "      <td>4072</td>\n",
       "      <td>0</td>\n",
       "    </tr>\n",
       "    <tr>\n",
       "      <th>1</th>\n",
       "      <td>0</td>\n",
       "      <td>102</td>\n",
       "      <td>0</td>\n",
       "      <td>0</td>\n",
       "      <td>270</td>\n",
       "      <td>4342</td>\n",
       "      <td>0</td>\n",
       "    </tr>\n",
       "    <tr>\n",
       "      <th>2</th>\n",
       "      <td>0</td>\n",
       "      <td>97</td>\n",
       "      <td>0</td>\n",
       "      <td>0</td>\n",
       "      <td>345</td>\n",
       "      <td>4342</td>\n",
       "      <td>0</td>\n",
       "    </tr>\n",
       "    <tr>\n",
       "      <th>3</th>\n",
       "      <td>0</td>\n",
       "      <td>98</td>\n",
       "      <td>0</td>\n",
       "      <td>0</td>\n",
       "      <td>440</td>\n",
       "      <td>4342</td>\n",
       "      <td>0</td>\n",
       "    </tr>\n",
       "    <tr>\n",
       "      <th>4</th>\n",
       "      <td>0</td>\n",
       "      <td>94</td>\n",
       "      <td>0</td>\n",
       "      <td>1</td>\n",
       "      <td>515</td>\n",
       "      <td>4342</td>\n",
       "      <td>0</td>\n",
       "    </tr>\n",
       "  </tbody>\n",
       "</table>\n",
       "</div>"
      ],
      "text/plain": [
       "   Airline  Aeroplane  Date  Stops  Duration  Price  Day\n",
       "0        4        108     0      2       145   4072    0\n",
       "1        0        102     0      0       270   4342    0\n",
       "2        0         97     0      0       345   4342    0\n",
       "3        0         98     0      0       440   4342    0\n",
       "4        0         94     0      1       515   4342    0"
      ]
     },
     "execution_count": 51,
     "metadata": {},
     "output_type": "execute_result"
    }
   ],
   "source": [
    "# Using Label encoder for transforming Categorical data\n",
    "\n",
    "#label encoding is used to transform categorical data into numerical values to use in our prediction model\n",
    "from sklearn.preprocessing import LabelEncoder\n",
    "le = LabelEncoder()\n",
    "for i in Categorical:\n",
    "    df[i] =le.fit_transform(df[i])\n",
    "df.head()"
   ]
  },
  {
   "cell_type": "code",
   "execution_count": 52,
   "id": "90f10db0",
   "metadata": {},
   "outputs": [
    {
     "data": {
      "text/html": [
       "<div>\n",
       "<style scoped>\n",
       "    .dataframe tbody tr th:only-of-type {\n",
       "        vertical-align: middle;\n",
       "    }\n",
       "\n",
       "    .dataframe tbody tr th {\n",
       "        vertical-align: top;\n",
       "    }\n",
       "\n",
       "    .dataframe thead th {\n",
       "        text-align: right;\n",
       "    }\n",
       "</style>\n",
       "<table border=\"1\" class=\"dataframe\">\n",
       "  <thead>\n",
       "    <tr style=\"text-align: right;\">\n",
       "      <th></th>\n",
       "      <th>Airline</th>\n",
       "      <th>Aeroplane</th>\n",
       "      <th>Date</th>\n",
       "      <th>Stops</th>\n",
       "      <th>Duration</th>\n",
       "      <th>Price</th>\n",
       "      <th>Day</th>\n",
       "    </tr>\n",
       "  </thead>\n",
       "  <tbody>\n",
       "    <tr>\n",
       "      <th>Airline</th>\n",
       "      <td>1.000000</td>\n",
       "      <td>0.296878</td>\n",
       "      <td>NaN</td>\n",
       "      <td>0.356436</td>\n",
       "      <td>-0.223656</td>\n",
       "      <td>-0.092851</td>\n",
       "      <td>NaN</td>\n",
       "    </tr>\n",
       "    <tr>\n",
       "      <th>Aeroplane</th>\n",
       "      <td>0.296878</td>\n",
       "      <td>1.000000</td>\n",
       "      <td>NaN</td>\n",
       "      <td>0.115907</td>\n",
       "      <td>0.124222</td>\n",
       "      <td>0.067697</td>\n",
       "      <td>NaN</td>\n",
       "    </tr>\n",
       "    <tr>\n",
       "      <th>Date</th>\n",
       "      <td>NaN</td>\n",
       "      <td>NaN</td>\n",
       "      <td>NaN</td>\n",
       "      <td>NaN</td>\n",
       "      <td>NaN</td>\n",
       "      <td>NaN</td>\n",
       "      <td>NaN</td>\n",
       "    </tr>\n",
       "    <tr>\n",
       "      <th>Stops</th>\n",
       "      <td>0.356436</td>\n",
       "      <td>0.115907</td>\n",
       "      <td>NaN</td>\n",
       "      <td>1.000000</td>\n",
       "      <td>-0.630085</td>\n",
       "      <td>-0.338528</td>\n",
       "      <td>NaN</td>\n",
       "    </tr>\n",
       "    <tr>\n",
       "      <th>Duration</th>\n",
       "      <td>-0.223656</td>\n",
       "      <td>0.124222</td>\n",
       "      <td>NaN</td>\n",
       "      <td>-0.630085</td>\n",
       "      <td>1.000000</td>\n",
       "      <td>0.121649</td>\n",
       "      <td>NaN</td>\n",
       "    </tr>\n",
       "    <tr>\n",
       "      <th>Price</th>\n",
       "      <td>-0.092851</td>\n",
       "      <td>0.067697</td>\n",
       "      <td>NaN</td>\n",
       "      <td>-0.338528</td>\n",
       "      <td>0.121649</td>\n",
       "      <td>1.000000</td>\n",
       "      <td>NaN</td>\n",
       "    </tr>\n",
       "    <tr>\n",
       "      <th>Day</th>\n",
       "      <td>NaN</td>\n",
       "      <td>NaN</td>\n",
       "      <td>NaN</td>\n",
       "      <td>NaN</td>\n",
       "      <td>NaN</td>\n",
       "      <td>NaN</td>\n",
       "      <td>NaN</td>\n",
       "    </tr>\n",
       "  </tbody>\n",
       "</table>\n",
       "</div>"
      ],
      "text/plain": [
       "            Airline  Aeroplane  Date     Stops  Duration     Price  Day\n",
       "Airline    1.000000   0.296878   NaN  0.356436 -0.223656 -0.092851  NaN\n",
       "Aeroplane  0.296878   1.000000   NaN  0.115907  0.124222  0.067697  NaN\n",
       "Date            NaN        NaN   NaN       NaN       NaN       NaN  NaN\n",
       "Stops      0.356436   0.115907   NaN  1.000000 -0.630085 -0.338528  NaN\n",
       "Duration  -0.223656   0.124222   NaN -0.630085  1.000000  0.121649  NaN\n",
       "Price     -0.092851   0.067697   NaN -0.338528  0.121649  1.000000  NaN\n",
       "Day             NaN        NaN   NaN       NaN       NaN       NaN  NaN"
      ]
     },
     "execution_count": 52,
     "metadata": {},
     "output_type": "execute_result"
    }
   ],
   "source": [
    "df.corr()\n",
    "#returns the correlation of each column"
   ]
  },
  {
   "cell_type": "code",
   "execution_count": 53,
   "id": "ec8ea7ca",
   "metadata": {},
   "outputs": [],
   "source": [
    "#standard scaling\n",
    "# Splitting data in target and dependent feature\n",
    "X = df.drop(['Price'], axis=1)\n",
    "Y = df['Price']\n",
    "from sklearn.preprocessing import StandardScaler\n",
    "scaler = StandardScaler()\n",
    "X_scale = scaler.fit_transform(X)"
   ]
  },
  {
   "cell_type": "code",
   "execution_count": 54,
   "id": "e93b7cec",
   "metadata": {},
   "outputs": [
    {
     "name": "stdout",
     "output_type": "stream",
     "text": [
      "Training Feature Matrix Size: (97, 6)\n",
      "Training Target Vector Size : (97,)\n",
      "Test Feature Matrix Size: (49, 6)\n",
      "Test Target Vector Size: (49,)\n"
     ]
    }
   ],
   "source": [
    "X_train, X_test, Y_train, Y_test = train_test_split(X_scale, Y, random_state=99, test_size=0.33)\n",
    "print('Training Feature Matrix Size:', X_train.shape)\n",
    "print('Training Target Vector Size :', Y_train.shape)\n",
    "print('Test Feature Matrix Size:', X_test.shape)\n",
    "print('Test Target Vector Size:', Y_test.shape)"
   ]
  },
  {
   "cell_type": "code",
   "execution_count": 55,
   "id": "288100cd",
   "metadata": {},
   "outputs": [
    {
     "name": "stdout",
     "output_type": "stream",
     "text": [
      "R2_Score: 29.469018366590927\n",
      "mean_squared_error: 1453318.1630279555\n",
      "mean_absolute_error: 994.6453284438776\n",
      "RMSE value: 1205.53646275339\n"
     ]
    }
   ],
   "source": [
    "#The Prediction Model\n",
    "Final_mod=XGBRegressor(booster='gbtree', max_depth=6, eta=0.1,\n",
    "                                gamma=0.1, n_estimators=400)\n",
    "#booster sets the type of learner; linear will have a group of linear functions as boosters\n",
    "#max_depth is the number of nodes all the trees are split at(no of splits each tree is allowed to make)\n",
    "#eta=learning rate\n",
    "#max_delta_step - The maximum step size that a leaf node can take.\n",
    "#the leaf values can be no larger than max_delta_step * eta\n",
    "#min loss reduction\n",
    "\n",
    "\n",
    "Final_mod.fit(X_train,Y_train)\n",
    "pred=Final_mod.predict(X_test)\n",
    "print('R2_Score:',r2_score(Y_test,pred)*100)\n",
    "print('mean_squared_error:',mean_squared_error(Y_test,pred))\n",
    "print('mean_absolute_error:',mean_absolute_error(Y_test,pred))\n",
    "print(\"RMSE value:\",np.sqrt(mean_squared_error(Y_test, pred)))"
   ]
  },
  {
   "cell_type": "code",
   "execution_count": 57,
   "id": "337b9f3f",
   "metadata": {},
   "outputs": [
    {
     "data": {
      "text/plain": [
       "['FlightPricePredictionModel.pkl']"
      ]
     },
     "execution_count": 57,
     "metadata": {},
     "output_type": "execute_result"
    }
   ],
   "source": [
    "# Saving the model using .pkl\n",
    "import joblib\n",
    "joblib.dump(Final_mod,\"FlightPricePredictionModel.pkl\")"
   ]
  },
  {
   "cell_type": "code",
   "execution_count": 58,
   "id": "501aae79",
   "metadata": {},
   "outputs": [
    {
     "data": {
      "text/plain": [
       "array([6981.688 , 6144.93  , 6521.907 , 5269.    , 5439.505 , 5100.413 ,\n",
       "       5124.2173, 8806.871 , 5856.6245, 4073.8293, 4853.7466, 6458.1006,\n",
       "       7321.071 , 5590.368 , 8143.4116, 5021.123 , 8194.067 , 5205.8413,\n",
       "       6254.9814, 5666.476 , 9012.789 , 8409.67  , 5187.2456, 7613.9634,\n",
       "       5216.6235, 4962.292 , 4798.152 , 7686.2705, 9018.499 , 4767.256 ,\n",
       "       6170.1177, 5583.6475, 4367.131 , 6035.7637, 5088.052 , 9438.241 ,\n",
       "       7443.72  , 5400.2017, 5428.4424, 4073.8293, 6161.695 , 6424.1904,\n",
       "       8762.439 , 4933.8623, 3513.296 , 4807.535 , 7399.717 , 5839.28  ,\n",
       "       6798.102 ], dtype=float32)"
      ]
     },
     "execution_count": 58,
     "metadata": {},
     "output_type": "execute_result"
    }
   ],
   "source": [
    "# Loading the saved model\n",
    "model = joblib.load(\"FlightPricePredictionModel.pkl\")\n",
    "\n",
    "# Prediction\n",
    "prediction = model.predict(X_test)\n",
    "prediction"
   ]
  },
  {
   "cell_type": "code",
   "execution_count": 59,
   "id": "2a2ec0fa",
   "metadata": {},
   "outputs": [
    {
     "data": {
      "text/html": [
       "<div>\n",
       "<style scoped>\n",
       "    .dataframe tbody tr th:only-of-type {\n",
       "        vertical-align: middle;\n",
       "    }\n",
       "\n",
       "    .dataframe tbody tr th {\n",
       "        vertical-align: top;\n",
       "    }\n",
       "\n",
       "    .dataframe thead th {\n",
       "        text-align: right;\n",
       "    }\n",
       "</style>\n",
       "<table border=\"1\" class=\"dataframe\">\n",
       "  <thead>\n",
       "    <tr style=\"text-align: right;\">\n",
       "      <th></th>\n",
       "      <th>0</th>\n",
       "      <th>1</th>\n",
       "      <th>2</th>\n",
       "      <th>3</th>\n",
       "      <th>4</th>\n",
       "      <th>5</th>\n",
       "      <th>6</th>\n",
       "      <th>7</th>\n",
       "      <th>8</th>\n",
       "      <th>9</th>\n",
       "      <th>...</th>\n",
       "      <th>39</th>\n",
       "      <th>40</th>\n",
       "      <th>41</th>\n",
       "      <th>42</th>\n",
       "      <th>43</th>\n",
       "      <th>44</th>\n",
       "      <th>45</th>\n",
       "      <th>46</th>\n",
       "      <th>47</th>\n",
       "      <th>48</th>\n",
       "    </tr>\n",
       "  </thead>\n",
       "  <tbody>\n",
       "    <tr>\n",
       "      <th>Predicted</th>\n",
       "      <td>6981.687988</td>\n",
       "      <td>6144.930176</td>\n",
       "      <td>6521.907227</td>\n",
       "      <td>5269.0</td>\n",
       "      <td>5439.504883</td>\n",
       "      <td>5100.413086</td>\n",
       "      <td>5124.217285</td>\n",
       "      <td>8806.871094</td>\n",
       "      <td>5856.624512</td>\n",
       "      <td>4073.829346</td>\n",
       "      <td>...</td>\n",
       "      <td>4073.829346</td>\n",
       "      <td>6161.694824</td>\n",
       "      <td>6424.19043</td>\n",
       "      <td>8762.439453</td>\n",
       "      <td>4933.862305</td>\n",
       "      <td>3513.295898</td>\n",
       "      <td>4807.535156</td>\n",
       "      <td>7399.716797</td>\n",
       "      <td>5839.279785</td>\n",
       "      <td>6798.102051</td>\n",
       "    </tr>\n",
       "    <tr>\n",
       "      <th>Actual</th>\n",
       "      <td>6555.000000</td>\n",
       "      <td>4502.000000</td>\n",
       "      <td>5584.000000</td>\n",
       "      <td>6319.0</td>\n",
       "      <td>6663.000000</td>\n",
       "      <td>6266.000000</td>\n",
       "      <td>5785.000000</td>\n",
       "      <td>9086.000000</td>\n",
       "      <td>5785.000000</td>\n",
       "      <td>4509.000000</td>\n",
       "      <td>...</td>\n",
       "      <td>4509.000000</td>\n",
       "      <td>4788.000000</td>\n",
       "      <td>4524.00000</td>\n",
       "      <td>9086.000000</td>\n",
       "      <td>5299.000000</td>\n",
       "      <td>4823.000000</td>\n",
       "      <td>5299.000000</td>\n",
       "      <td>5978.000000</td>\n",
       "      <td>6868.000000</td>\n",
       "      <td>7656.000000</td>\n",
       "    </tr>\n",
       "  </tbody>\n",
       "</table>\n",
       "<p>2 rows × 49 columns</p>\n",
       "</div>"
      ],
      "text/plain": [
       "                    0            1            2       3            4   \\\n",
       "Predicted  6981.687988  6144.930176  6521.907227  5269.0  5439.504883   \n",
       "Actual     6555.000000  4502.000000  5584.000000  6319.0  6663.000000   \n",
       "\n",
       "                    5            6            7            8            9   \\\n",
       "Predicted  5100.413086  5124.217285  8806.871094  5856.624512  4073.829346   \n",
       "Actual     6266.000000  5785.000000  9086.000000  5785.000000  4509.000000   \n",
       "\n",
       "           ...           39           40          41           42  \\\n",
       "Predicted  ...  4073.829346  6161.694824  6424.19043  8762.439453   \n",
       "Actual     ...  4509.000000  4788.000000  4524.00000  9086.000000   \n",
       "\n",
       "                    43           44           45           46           47  \\\n",
       "Predicted  4933.862305  3513.295898  4807.535156  7399.716797  5839.279785   \n",
       "Actual     5299.000000  4823.000000  5299.000000  5978.000000  6868.000000   \n",
       "\n",
       "                    48  \n",
       "Predicted  6798.102051  \n",
       "Actual     7656.000000  \n",
       "\n",
       "[2 rows x 49 columns]"
      ]
     },
     "execution_count": 59,
     "metadata": {},
     "output_type": "execute_result"
    }
   ],
   "source": [
    "pd.DataFrame([model.predict(X_test)[:], Y_test[:]], index = ['Predicted', 'Actual'])"
   ]
  },
  {
   "cell_type": "code",
   "execution_count": null,
   "id": "50e1e3c0",
   "metadata": {},
   "outputs": [],
   "source": []
  }
 ],
 "metadata": {
  "kernelspec": {
   "display_name": "Python 3 (ipykernel)",
   "language": "python",
   "name": "python3"
  },
  "language_info": {
   "codemirror_mode": {
    "name": "ipython",
    "version": 3
   },
   "file_extension": ".py",
   "mimetype": "text/x-python",
   "name": "python",
   "nbconvert_exporter": "python",
   "pygments_lexer": "ipython3",
   "version": "3.10.9"
  }
 },
 "nbformat": 4,
 "nbformat_minor": 5
}
